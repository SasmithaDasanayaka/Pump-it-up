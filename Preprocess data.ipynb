{
 "cells": [
  {
   "cell_type": "code",
   "execution_count": null,
   "source": [
    "import pandas as pd\r\n",
    "import numpy as np\r\n",
    "from sklearn.model_selection import train_test_split\r\n",
    "from sklearn.preprocessing import MinMaxScaler\r\n",
    "import seaborn as sns\r\n",
    "import matplotlib.pyplot as plt\r\n",
    "%matplotlib inline"
   ],
   "outputs": [],
   "metadata": {}
  },
  {
   "cell_type": "code",
   "execution_count": null,
   "source": [
    "# directory initialization\r\n",
    "root_dir = {root_dir}\r\n",
    "data_dir = root_dir + 'data.csv'\r\n",
    "# data_dir = root_dir + 'test.csv'\r\n",
    "label_dir = root_dir + 'labels.csv'"
   ],
   "outputs": [],
   "metadata": {}
  },
  {
   "cell_type": "code",
   "execution_count": null,
   "source": [
    "# data read\r\n",
    "train_data=pd.read_csv(data_dir)\r\n",
    "labels=pd.read_csv(label_dir)\r\n",
    "data = labels.merge(train_data, on='id')\r\n",
    "# data = labels\r\n",
    "data"
   ],
   "outputs": [],
   "metadata": {}
  },
  {
   "cell_type": "code",
   "execution_count": null,
   "source": [
    "data.isna().sum()\r\n",
    "# population/amount_tsh/gps_height\r\n",
    "data.gps_height[data.gps_height==np.nan].count()"
   ],
   "outputs": [],
   "metadata": {}
  },
  {
   "cell_type": "code",
   "execution_count": null,
   "source": [
    "a = data.groupby(['region','permit']).size()"
   ],
   "outputs": [],
   "metadata": {}
  },
  {
   "cell_type": "code",
   "execution_count": null,
   "source": [
    "features = data.columns\r\n",
    "print(f'# of features: {len(features)}')\r\n",
    "print(f'features: {features}')\r\n",
    "pd.set_option('display.max_columns', None)\r\n",
    "print(len(data))\r\n",
    "data.head()"
   ],
   "outputs": [],
   "metadata": {}
  },
  {
   "cell_type": "code",
   "execution_count": null,
   "source": [
    "scalable_features=['amount_tsh', 'gps_height', 'population']\r\n",
    "min_max_scaler = MinMaxScaler(feature_range=(0,20))\r\n",
    "data[scalable_features] = min_max_scaler.fit_transform(data[scalable_features])\r\n",
    "# data[scalable_features].head(20)\r\n",
    "data.isnull().sum()"
   ],
   "outputs": [],
   "metadata": {}
  },
  {
   "cell_type": "code",
   "execution_count": null,
   "source": [
    "plt.figure(figsize=(13,6))\r\n",
    "sns.countplot(data.status_group, palette = 'Set3')\r\n",
    "data.status_group.value_counts()"
   ],
   "outputs": [],
   "metadata": {}
  },
  {
   "cell_type": "code",
   "execution_count": null,
   "source": [
    "# water_quality,extraction_type_class\r\n",
    "\r\n",
    "plt.figure(figsize=(14,6))\r\n",
    "sns.countplot(data=data,x='water_quality',hue='status_group')\r\n",
    "data.water_quality.value_counts()"
   ],
   "outputs": [],
   "metadata": {}
  },
  {
   "cell_type": "code",
   "execution_count": null,
   "source": [
    "# quantity, payment_type\r\n",
    "plt.figure(figsize=(24, 9))\r\n",
    "\r\n",
    "sns.countplot(data=data,x='region',hue='status_group')\r\n",
    "data.region.unique()"
   ],
   "outputs": [],
   "metadata": {}
  },
  {
   "cell_type": "code",
   "execution_count": null,
   "source": [
    "data.groupby(['district_code', 'region','construction_year']).size()"
   ],
   "outputs": [],
   "metadata": {}
  },
  {
   "cell_type": "code",
   "execution_count": null,
   "source": [
    "# print(len(data.funder.unique()))\r\n",
    "# sns.countplot(data.funder)\r\n",
    "pd.set_option(\"display.max_rows\", None)\r\n",
    "counts = data.funder.value_counts()\r\n",
    "list_counts = counts[counts>=40]\r\n",
    "# data.funder\r\n",
    "len(list_counts)\r\n",
    "print(list_counts)"
   ],
   "outputs": [],
   "metadata": {}
  },
  {
   "cell_type": "code",
   "execution_count": null,
   "source": [
    "# use tranform (mean,median) to fill\r\n",
    "data[\"gps_height\"].fillna(data.groupby(['region', 'district_code'])[\"gps_height\"].transform(\"mean\"), inplace=True)\r\n",
    "data[\"population\"].fillna(data.groupby(['region', 'district_code'])[\"population\"].transform(\"median\"), inplace=True)\r\n",
    "data[\"amount_tsh\"].fillna(data.groupby(['region', 'district_code'])[\"amount_tsh\"].transform(\"median\"), inplace=True)\r\n",
    "data[\"latitude\"].fillna(data.groupby(['region', 'district_code'])[\"latitude\"].transform(\"mean\"), inplace=True)\r\n",
    "data[\"longitude\"].fillna(data.groupby(['region', 'district_code'])[\"longitude\"].transform(\"mean\"), inplace=True)\r\n",
    "data[\"construction_year\"].fillna(data.groupby(['region', 'district_code'])[\"construction_year\"].transform(\"median\"), inplace=True)\r\n",
    "data[\"funder\"].fillna(\"other\", inplace=True)\r\n",
    "data[\"scheme_management\"].fillna(\"other\", inplace=True)\r\n",
    "data[\"installer\"].fillna(\"other\", inplace=True)\r\n",
    "data.isnull().sum()"
   ],
   "outputs": [],
   "metadata": {}
  },
  {
   "cell_type": "code",
   "execution_count": null,
   "source": [
    "# create new features\r\n",
    "data['date_recorded'] = pd.to_datetime(data['date_recorded'])\r\n",
    "data.date_recorded.head(5)\r\n",
    "print(data.date_recorded.dt.year.head(5))\r\n",
    "print(data.construction_year.head(5))\r\n",
    "data['operational_year'] = data.date_recorded.dt.year - data.construction_year"
   ],
   "outputs": [],
   "metadata": {}
  },
  {
   "cell_type": "code",
   "execution_count": null,
   "source": [
    "#cleaning\r\n",
    "extra_features=['wpt_name','num_private','subvillage','region_code','recorded_by','management_group']\r\n",
    "data.drop(extra_features,axis=1,inplace=True)"
   ],
   "outputs": [],
   "metadata": {}
  },
  {
   "cell_type": "code",
   "execution_count": null,
   "source": [
    "print(data.groupby(['extraction_type_group','extraction_type_class','extraction_type']).size()   )   \r\n",
    "data.drop(['extraction_type_group','extraction_type_class'],axis=1,inplace=True)"
   ],
   "outputs": [],
   "metadata": {}
  },
  {
   "cell_type": "code",
   "execution_count": null,
   "source": [
    "data.groupby(['scheme_management', 'scheme_name']).size()\r\n",
    "# data.drop('scheme_name',axis=1,inplace=True)"
   ],
   "outputs": [],
   "metadata": {}
  },
  {
   "cell_type": "code",
   "execution_count": null,
   "source": [
    "data.groupby(['payment', 'payment_type']).size()\r\n",
    "# data.drop('payment',axis=1,inplace=True)"
   ],
   "outputs": [],
   "metadata": {}
  },
  {
   "cell_type": "code",
   "execution_count": null,
   "source": [
    "data.groupby(['water_quality', 'quality_group']).size()\r\n",
    "# data.drop('quality_group',axis=1,inplace=True)"
   ],
   "outputs": [],
   "metadata": {}
  },
  {
   "cell_type": "code",
   "execution_count": null,
   "source": [
    "data.groupby(['quantity', 'quantity_group']).size()\r\n",
    "# data.drop('quantity_group',axis=1,inplace=True)"
   ],
   "outputs": [],
   "metadata": {}
  },
  {
   "cell_type": "code",
   "execution_count": null,
   "source": [
    "data.groupby(['source', 'source_type', 'source_class']).size()\r\n",
    "# data.drop(['source_type','source_class'],axis=1,inplace=True)"
   ],
   "outputs": [],
   "metadata": {}
  },
  {
   "cell_type": "code",
   "execution_count": null,
   "source": [
    "data.groupby(['waterpoint_type', 'waterpoint_type_group']).size()\r\n",
    "# data.drop('waterpoint_type_group',axis=1,inplace=True)"
   ],
   "outputs": [],
   "metadata": {}
  },
  {
   "cell_type": "code",
   "execution_count": null,
   "source": [
    "data.info()\r\n"
   ],
   "outputs": [],
   "metadata": {}
  },
  {
   "cell_type": "code",
   "execution_count": null,
   "source": [
    "print(data.groupby(['lga', 'ward','status_group']).size() )\r\n",
    "# data.drop('ward',axis=1,inplace=True)"
   ],
   "outputs": [],
   "metadata": {}
  },
  {
   "cell_type": "code",
   "execution_count": null,
   "source": [
    "data.info()"
   ],
   "outputs": [],
   "metadata": {}
  },
  {
   "cell_type": "code",
   "execution_count": null,
   "source": [
    "data.groupby(['installer', 'funder','status_group']).size()"
   ],
   "outputs": [],
   "metadata": {}
  },
  {
   "cell_type": "code",
   "execution_count": null,
   "source": [
    "data.isnull().sum()"
   ],
   "outputs": [],
   "metadata": {}
  },
  {
   "cell_type": "code",
   "execution_count": null,
   "source": [
    "data.drop('public_meeting', axis=1, inplace=True)\r\n",
    "data.drop('permit', axis=1, inplace=True)"
   ],
   "outputs": [],
   "metadata": {}
  },
  {
   "cell_type": "code",
   "execution_count": null,
   "source": [
    "data.isnull().sum()"
   ],
   "outputs": [],
   "metadata": {}
  },
  {
   "cell_type": "code",
   "execution_count": null,
   "source": [
    "data.info()"
   ],
   "outputs": [],
   "metadata": {}
  },
  {
   "cell_type": "code",
   "execution_count": null,
   "source": [
    "data.funder = data.funder.str.lower()\r\n",
    "data.basin = data.basin.str.lower()\r\n",
    "data.region = data.region.str.lower()\r\n",
    "data.source = data.source.str.lower()\r\n",
    "data.lga = data.lga.str.lower()\r\n",
    "data.management = data.management.str.lower()\r\n",
    "data.quantity = data.quantity.str.lower()\r\n",
    "data.water_quality = data.water_quality.str.lower()\r\n",
    "data.waterpoint_type = data.waterpoint_type.str.lower()\r\n",
    "data.payment_type=data.payment_type.str.lower()\r\n",
    "data.extraction_type=data.extraction_type.str.lower()"
   ],
   "outputs": [],
   "metadata": {}
  },
  {
   "cell_type": "code",
   "execution_count": null,
   "source": [
    "data.drop('date_recorded', axis=1, inplace=True)\r\n",
    "data.drop('construction_year', axis=1, inplace=True)"
   ],
   "outputs": [],
   "metadata": {}
  },
  {
   "cell_type": "code",
   "execution_count": null,
   "source": [
    "print(data.isnull().sum())\r\n",
    "data.info()\r\n",
    "pd.DataFrame(data).to_csv(\"clean_test.csv\")"
   ],
   "outputs": [],
   "metadata": {}
  },
  {
   "cell_type": "code",
   "execution_count": null,
   "source": [
    "data.columns"
   ],
   "outputs": [],
   "metadata": {}
  }
 ],
 "metadata": {
  "kernelspec": {
   "name": "python3",
   "display_name": "Python 3.7.4 64-bit ('base': conda)"
  },
  "language_info": {
   "codemirror_mode": {
    "name": "ipython",
    "version": 3
   },
   "file_extension": ".py",
   "mimetype": "text/x-python",
   "name": "python",
   "nbconvert_exporter": "python",
   "pygments_lexer": "ipython3",
   "version": "3.7.4"
  },
  "interpreter": {
   "hash": "0bb8a58559d3bd9b96abd8390752526b268235ce878b76a239baa5d966df3a3a"
  }
 },
 "nbformat": 4,
 "nbformat_minor": 4
}