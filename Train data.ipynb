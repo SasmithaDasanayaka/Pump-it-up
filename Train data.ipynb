{
 "cells": [
  {
   "cell_type": "code",
   "execution_count": null,
   "source": [
    "import pandas as pd\r\n",
    "import numpy as np"
   ],
   "outputs": [],
   "metadata": {}
  },
  {
   "cell_type": "code",
   "execution_count": null,
   "source": [
    "root_dir = {root_dir}\r\n",
    "train_dir = root_dir + 'prerpocessed_train.csv'\r\n",
    "test_dir = root_dir + 'prerpocessed_test.csv'\r\n",
    "\r\n",
    "train = pd.read_csv(train_dir)\r\n",
    "test = pd.read_csv(test_dir)"
   ],
   "outputs": [],
   "metadata": {}
  },
  {
   "cell_type": "code",
   "execution_count": null,
   "source": [
    "train.shape,test.shape"
   ],
   "outputs": [],
   "metadata": {}
  },
  {
   "cell_type": "code",
   "execution_count": null,
   "source": [
    "#drop unnamed column \r\n",
    "train.drop(train.columns[train.columns.str.contains('unnamed',case = False)],axis = 1, inplace = True)\r\n",
    "test.drop(test.columns[test.columns.str.contains('unnamed',case = False)],axis = 1, inplace = True)\r\n",
    "\r\n",
    "target=train.pop('status_group')\r\n",
    "\r\n",
    "# new col to identify test/train data\r\n",
    "train['is_test']=0\r\n",
    "test['is_test']=1"
   ],
   "outputs": [],
   "metadata": {}
  },
  {
   "cell_type": "code",
   "execution_count": null,
   "source": [
    "train.shape,test.shape"
   ],
   "outputs": [],
   "metadata": {}
  },
  {
   "cell_type": "code",
   "execution_count": null,
   "source": [
    "train_test = pd.concat([train, test])\r\n",
    "train_test.info()"
   ],
   "outputs": [],
   "metadata": {}
  },
  {
   "cell_type": "code",
   "execution_count": null,
   "source": [
    "train_test['funder'] = pd.factorize(train_test['funder'])[0]\r\n",
    "train_test['installer'] = pd.factorize(train_test['installer'])[0]\r\n",
    "train_test['scheme_management'] = pd.factorize(train_test['scheme_management'])[0]\r\n",
    "train_test['extraction_type'] = pd.factorize(train_test['extraction_type'])[0]\r\n",
    "train_test['management'] = pd.factorize(train_test['management'])[0]\r\n",
    "# train_test['payment_type'] = pd.factorize(train_test['payment_type'])[0]\r\n",
    "# train_test['water_quality'] = pd.factorize(train_test['water_quality'])[0]\r\n",
    "# train_test['quantity'] = pd.factorize(train_test['quantity'])[0]\r\n",
    "train_test['source'] = pd.factorize(train_test['source'])[0]\r\n",
    "# train_test['waterpoint_type'] = pd.factorize(train_test['waterpoint_type'])[0]\r\n",
    "# train_test['basin'] = pd.factorize(train_test['basin'])[0]\r\n",
    "train_test['region'] = pd.factorize(train_test['region'])[0]\r\n",
    "train_test['lga'] = pd.factorize(train_test['lga'])[0]\r\n",
    "train_test['district_code'] = pd.factorize(train_test['district_code'])[0]\r\n",
    "train_test['operational_year'] = pd.factorize(train_test['operational_year'])[0]\r\n",
    "len(train_test.basin.unique())"
   ],
   "outputs": [],
   "metadata": {}
  },
  {
   "cell_type": "code",
   "execution_count": null,
   "source": [
    "y1 = pd.get_dummies(train_test.payment_type,prefix = 'payment')\r\n",
    "y2 = pd.get_dummies(train_test.water_quality,prefix = 'quality')\r\n",
    "y3 = pd.get_dummies(train_test.quantity,prefix = 'quantity')\r\n",
    "y4 = pd.get_dummies(train_test.waterpoint_type,prefix = 'waterpoint_type')\r\n",
    "y5 = pd.get_dummies(train_test.basin,prefix = 'basin')"
   ],
   "outputs": [],
   "metadata": {}
  },
  {
   "cell_type": "code",
   "execution_count": null,
   "source": [
    "train_test = pd.concat([train_test,y1,y2,y3,y4,y5],axis = 1)\r\n",
    "train_test.drop(['payment_type','water_quality','quantity','waterpoint_type','basin'],axis =1, inplace=True)\r\n",
    "\r\n",
    "df_train = train_test[train_test[\"is_test\"] == 0]\r\n",
    "df_test = train_test[train_test[\"is_test\"] == 1]\r\n",
    "\r\n",
    "df_train.drop([\"is_test\"], axis=1, inplace=True)\r\n",
    "df_train.drop(['id'],axis=1, inplace=True)\r\n",
    "df_test.drop([\"is_test\"], axis=1, inplace=True)\r\n",
    "\r\n",
    "train_test.info()"
   ],
   "outputs": [],
   "metadata": {}
  },
  {
   "cell_type": "code",
   "execution_count": null,
   "source": [
    "# target encoding\r\n",
    "import category_encoders as ce\r\n",
    "\r\n",
    "category_features = ['ward']\r\n",
    "target_encoder = ce.TargetEncoder(cols=category_features)\r\n",
    "\r\n",
    "tem_target=pd.factorize(target)[0]\r\n",
    "\r\n",
    "df_train = target_encoder.fit_transform(df_train , tem_target)\r\n",
    "df_test = target_encoder.transform(df_test)"
   ],
   "outputs": [],
   "metadata": {}
  },
  {
   "cell_type": "code",
   "execution_count": null,
   "source": [
    "X = df_train\r\n",
    "y = target"
   ],
   "outputs": [],
   "metadata": {}
  },
  {
   "cell_type": "code",
   "execution_count": null,
   "source": [
    "from sklearn.ensemble import RandomForestClassifier\r\n",
    "random_fc = RandomForestClassifier(n_estimators=1000)"
   ],
   "outputs": [],
   "metadata": {}
  },
  {
   "cell_type": "code",
   "execution_count": null,
   "source": [
    "# from sklearn.neighbors import KNeighborsClassifier\r\n",
    "# knn=KNeighborsClassifier(n_neighbors=1000)"
   ],
   "outputs": [],
   "metadata": {}
  },
  {
   "cell_type": "code",
   "execution_count": null,
   "source": [
    "from xgboost import XGBClassifier\r\n",
    "model = XGBClassifier(objective = 'multi:softmax',\r\n",
    "                      booster = 'gbtree', max_depth = 14,\r\n",
    "                      nrounds = 'min.error.idx', \r\n",
    "                      num_class = 4,\r\n",
    "                      maximize = False, \r\n",
    "                      eval_metric = 'merror',\r\n",
    "                      eta = .2,\r\n",
    "                      colsample_bytree = .4)"
   ],
   "outputs": [],
   "metadata": {}
  },
  {
   "cell_type": "code",
   "execution_count": null,
   "source": [
    "from sklearn.ensemble import VotingClassifier\r\n",
    "ensembler = VotingClassifier(estimators=[('xg', model), ('rf', random_fc)],weights=[1,2], voting='hard')"
   ],
   "outputs": [],
   "metadata": {}
  },
  {
   "cell_type": "code",
   "execution_count": null,
   "source": [
    "from sklearn.model_selection import cross_val_score\r\n",
    "cross_val_score(ensembler, X, y, cv=3)\r\n",
    "\r\n",
    "# array([0.80328283, 0.80328283, 0.80141414])  0.8173\r\n",
    "# array([0.8040404 , 0.80479798, 0.80075758])  0.8165\r\n",
    "# array([0.80838384, 0.8109596 , 0.80752525])  0.8153\r\n",
    "# array([0.79767677, 0.79782828, 0.79590909])  0.8096\r\n",
    "# array([0.79828283, 0.79767677, 0.79540404])"
   ],
   "outputs": [],
   "metadata": {}
  },
  {
   "cell_type": "code",
   "execution_count": null,
   "source": [
    "ensembler.fit(X,y)\r\n",
    "X.info()"
   ],
   "outputs": [],
   "metadata": {
    "scrolled": true
   }
  },
  {
   "cell_type": "code",
   "execution_count": null,
   "source": [
    "random_fc.fit(X,y)\r\n",
    "\r\n",
    "importances = random_fc.feature_importances_\r\n",
    "importances\r\n",
    "indices = np.argsort(importances)[::-1]"
   ],
   "outputs": [],
   "metadata": {}
  },
  {
   "cell_type": "code",
   "execution_count": null,
   "source": [
    "idx=X_test['id']\r\n",
    "X_test.drop(['id'],axis=1, inplace=True)\r\n",
    "y_pred = ensembler.predict(X_test)"
   ],
   "outputs": [],
   "metadata": {}
  },
  {
   "cell_type": "code",
   "execution_count": null,
   "source": [
    "y_pred=pd.DataFrame(y_pred)\r\n",
    "y_pred['id']=idx\r\n",
    "y_pred.columns=['status_group','id']\r\n",
    "y_pred=y_pred[['id','status_group']]"
   ],
   "outputs": [],
   "metadata": {}
  },
  {
   "cell_type": "code",
   "execution_count": null,
   "source": [
    "y_pred.info()"
   ],
   "outputs": [],
   "metadata": {}
  },
  {
   "cell_type": "code",
   "execution_count": null,
   "source": [
    "pd.DataFrame(y_pred).to_csv(\"submission.csv\")"
   ],
   "outputs": [],
   "metadata": {}
  }
 ],
 "metadata": {
  "kernelspec": {
   "display_name": "Python 3.7.4 64-bit ('base': conda)",
   "language": "python",
   "name": "python37464bitbaseconda47702eee39b8497599390ad2c666a2e0"
  },
  "language_info": {
   "codemirror_mode": {
    "name": "ipython",
    "version": 3
   },
   "file_extension": ".py",
   "mimetype": "text/x-python",
   "name": "python",
   "nbconvert_exporter": "python",
   "pygments_lexer": "ipython3",
   "version": "3.7.4"
  }
 },
 "nbformat": 4,
 "nbformat_minor": 4
}